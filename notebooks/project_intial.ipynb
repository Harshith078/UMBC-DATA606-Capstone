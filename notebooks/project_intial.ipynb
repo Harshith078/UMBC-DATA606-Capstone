{
 "cells": [
  {
   "cell_type": "markdown",
   "id": "f95d0540",
   "metadata": {},
   "source": [
    "## Loading dataset"
   ]
  },
  {
   "cell_type": "code",
   "execution_count": 1,
   "id": "06b4d076",
   "metadata": {},
   "outputs": [],
   "source": [
    "import pandas as pd\n",
    "import numpy as np\n",
    "import json\n",
    "\n",
    "# Load the JSON data into a Pandas DataFrame\n",
    "with open('amazon_uk_shoes_dataset.json') as f:\n",
    "    data = json.load(f)\n",
    "\n",
    "df = pd.DataFrame(data)"
   ]
  },
  {
   "cell_type": "markdown",
   "id": "b2ee7195",
   "metadata": {},
   "source": [
    "## Inpecting the dataset"
   ]
  },
  {
   "cell_type": "code",
   "execution_count": 2,
   "id": "25032f4b",
   "metadata": {},
   "outputs": [
    {
     "data": {
      "text/html": [
       "<div>\n",
       "<style scoped>\n",
       "    .dataframe tbody tr th:only-of-type {\n",
       "        vertical-align: middle;\n",
       "    }\n",
       "\n",
       "    .dataframe tbody tr th {\n",
       "        vertical-align: top;\n",
       "    }\n",
       "\n",
       "    .dataframe thead th {\n",
       "        text-align: right;\n",
       "    }\n",
       "</style>\n",
       "<table border=\"1\" class=\"dataframe\">\n",
       "  <thead>\n",
       "    <tr style=\"text-align: right;\">\n",
       "      <th></th>\n",
       "      <th>url</th>\n",
       "      <th>title</th>\n",
       "      <th>asin</th>\n",
       "      <th>price</th>\n",
       "      <th>brand</th>\n",
       "      <th>product_details</th>\n",
       "      <th>breadcrumbs</th>\n",
       "      <th>images_list</th>\n",
       "      <th>features</th>\n",
       "    </tr>\n",
       "  </thead>\n",
       "  <tbody>\n",
       "    <tr>\n",
       "      <th>0</th>\n",
       "      <td>https://www.amazon.co.uk/dp/B08BLP231K</td>\n",
       "      <td>Geox Jr Sandal Strada B Fisherman, Brown Red, ...</td>\n",
       "      <td>B08BLP231K</td>\n",
       "      <td>£50.00</td>\n",
       "      <td>Visit the Geox Store</td>\n",
       "      <td>Package Dimensions\\n‏\\n:\\n‎\\n\\n31.2 x 21.4 x 1...</td>\n",
       "      <td>Shoes/Boys' Shoes/Sandals</td>\n",
       "      <td>[https://m.media-amazon.com/images/I/41Ouvqjha...</td>\n",
       "      <td>[{'Outer Material': 'Synthetic'}, {'Inner Mate...</td>\n",
       "    </tr>\n",
       "    <tr>\n",
       "      <th>1</th>\n",
       "      <td>https://www.amazon.co.uk/dp/B08N587YZ9</td>\n",
       "      <td>Fila Women's Oakmont Tr Sneaker</td>\n",
       "      <td>B08N587YZ9</td>\n",
       "      <td>£49.57 - £234.95</td>\n",
       "      <td>Fila</td>\n",
       "      <td>Product Dimensions\\n‏\\n:\\n‎\\n\\n32.51 x 21.84 x...</td>\n",
       "      <td>Shoes/Women's Shoes/Fashion &amp; Athletic Trainer...</td>\n",
       "      <td>[https://m.media-amazon.com/images/I/416fCMuxw...</td>\n",
       "      <td>[{'Outer Material': 'fabric'}, {'Sole': 'Rubbe...</td>\n",
       "    </tr>\n",
       "    <tr>\n",
       "      <th>2</th>\n",
       "      <td>https://www.amazon.co.uk/dp/B0918K4H1W</td>\n",
       "      <td>Gabor Rollingsoft Trainers in Plus Sizes Beige...</td>\n",
       "      <td>B0918K4H1W</td>\n",
       "      <td>None</td>\n",
       "      <td>Gabor</td>\n",
       "      <td>Is Discontinued By Manufacturer\\n‏\\n:\\n‎\\n\\nNo...</td>\n",
       "      <td>Shoes/Women's Shoes/Fashion &amp; Athletic Trainer...</td>\n",
       "      <td>[https://m.media-amazon.com/images/I/31GuoIF6F...</td>\n",
       "      <td>[{'Outer Material': 'Leather'}, {'Sole': 'Leat...</td>\n",
       "    </tr>\n",
       "    <tr>\n",
       "      <th>3</th>\n",
       "      <td>https://www.amazon.co.uk/dp/B07KMB98CG</td>\n",
       "      <td>Merrell Women'S Bare Access Xtr Trail Running ...</td>\n",
       "      <td>B07KMB98CG</td>\n",
       "      <td>£67.00 - £182.44</td>\n",
       "      <td>Visit the Merrell Store</td>\n",
       "      <td>Package Dimensions\\n‏\\n:\\n‎\\n\\n28.96 x 19.81 x...</td>\n",
       "      <td>Shoes/Women's Shoes/Fashion &amp; Athletic Trainer...</td>\n",
       "      <td>[https://m.media-amazon.com/images/I/51bLpccQM...</td>\n",
       "      <td>[{'Outer Material': 'Synthetic'}, {'Inner Mate...</td>\n",
       "    </tr>\n",
       "    <tr>\n",
       "      <th>4</th>\n",
       "      <td>https://www.amazon.co.uk/dp/B08CN3S1ZK</td>\n",
       "      <td>Desigual Women's Shoes_Runner_cmofl Sneakers W...</td>\n",
       "      <td>B08CN3S1ZK</td>\n",
       "      <td>£38.96 - £81.10</td>\n",
       "      <td>Desigual</td>\n",
       "      <td>Package Dimensions\\n‏\\n:\\n‎\\n\\n34.6 x 21.8 x 1...</td>\n",
       "      <td>Shoes/Women's Shoes/Fashion &amp; Athletic Trainer...</td>\n",
       "      <td>[https://m.media-amazon.com/images/I/41nMmmxX-...</td>\n",
       "      <td>[{'Outer Material': 'Polyester'}, {'Inner Mate...</td>\n",
       "    </tr>\n",
       "  </tbody>\n",
       "</table>\n",
       "</div>"
      ],
      "text/plain": [
       "                                      url  \\\n",
       "0  https://www.amazon.co.uk/dp/B08BLP231K   \n",
       "1  https://www.amazon.co.uk/dp/B08N587YZ9   \n",
       "2  https://www.amazon.co.uk/dp/B0918K4H1W   \n",
       "3  https://www.amazon.co.uk/dp/B07KMB98CG   \n",
       "4  https://www.amazon.co.uk/dp/B08CN3S1ZK   \n",
       "\n",
       "                                               title        asin  \\\n",
       "0  Geox Jr Sandal Strada B Fisherman, Brown Red, ...  B08BLP231K   \n",
       "1                    Fila Women's Oakmont Tr Sneaker  B08N587YZ9   \n",
       "2  Gabor Rollingsoft Trainers in Plus Sizes Beige...  B0918K4H1W   \n",
       "3  Merrell Women'S Bare Access Xtr Trail Running ...  B07KMB98CG   \n",
       "4  Desigual Women's Shoes_Runner_cmofl Sneakers W...  B08CN3S1ZK   \n",
       "\n",
       "              price                    brand  \\\n",
       "0            £50.00     Visit the Geox Store   \n",
       "1  £49.57 - £234.95                     Fila   \n",
       "2              None                    Gabor   \n",
       "3  £67.00 - £182.44  Visit the Merrell Store   \n",
       "4   £38.96 - £81.10                 Desigual   \n",
       "\n",
       "                                     product_details  \\\n",
       "0  Package Dimensions\\n‏\\n:\\n‎\\n\\n31.2 x 21.4 x 1...   \n",
       "1  Product Dimensions\\n‏\\n:\\n‎\\n\\n32.51 x 21.84 x...   \n",
       "2  Is Discontinued By Manufacturer\\n‏\\n:\\n‎\\n\\nNo...   \n",
       "3  Package Dimensions\\n‏\\n:\\n‎\\n\\n28.96 x 19.81 x...   \n",
       "4  Package Dimensions\\n‏\\n:\\n‎\\n\\n34.6 x 21.8 x 1...   \n",
       "\n",
       "                                         breadcrumbs  \\\n",
       "0                          Shoes/Boys' Shoes/Sandals   \n",
       "1  Shoes/Women's Shoes/Fashion & Athletic Trainer...   \n",
       "2  Shoes/Women's Shoes/Fashion & Athletic Trainer...   \n",
       "3  Shoes/Women's Shoes/Fashion & Athletic Trainer...   \n",
       "4  Shoes/Women's Shoes/Fashion & Athletic Trainer...   \n",
       "\n",
       "                                         images_list  \\\n",
       "0  [https://m.media-amazon.com/images/I/41Ouvqjha...   \n",
       "1  [https://m.media-amazon.com/images/I/416fCMuxw...   \n",
       "2  [https://m.media-amazon.com/images/I/31GuoIF6F...   \n",
       "3  [https://m.media-amazon.com/images/I/51bLpccQM...   \n",
       "4  [https://m.media-amazon.com/images/I/41nMmmxX-...   \n",
       "\n",
       "                                            features  \n",
       "0  [{'Outer Material': 'Synthetic'}, {'Inner Mate...  \n",
       "1  [{'Outer Material': 'fabric'}, {'Sole': 'Rubbe...  \n",
       "2  [{'Outer Material': 'Leather'}, {'Sole': 'Leat...  \n",
       "3  [{'Outer Material': 'Synthetic'}, {'Inner Mate...  \n",
       "4  [{'Outer Material': 'Polyester'}, {'Inner Mate...  "
      ]
     },
     "execution_count": 2,
     "metadata": {},
     "output_type": "execute_result"
    }
   ],
   "source": [
    "df.head()"
   ]
  },
  {
   "cell_type": "markdown",
   "id": "ba881ac2",
   "metadata": {},
   "source": [
    "## Performing basic EDA"
   ]
  },
  {
   "cell_type": "code",
   "execution_count": 3,
   "id": "48133aa6",
   "metadata": {},
   "outputs": [
    {
     "name": "stdout",
     "output_type": "stream",
     "text": [
      "<class 'pandas.core.frame.DataFrame'>\n",
      "RangeIndex: 11605 entries, 0 to 11604\n",
      "Data columns (total 9 columns):\n",
      " #   Column           Non-Null Count  Dtype \n",
      "---  ------           --------------  ----- \n",
      " 0   url              11605 non-null  object\n",
      " 1   title            11605 non-null  object\n",
      " 2   asin             11605 non-null  object\n",
      " 3   price            11168 non-null  object\n",
      " 4   brand            11605 non-null  object\n",
      " 5   product_details  11605 non-null  object\n",
      " 6   breadcrumbs      11605 non-null  object\n",
      " 7   images_list      11605 non-null  object\n",
      " 8   features         11605 non-null  object\n",
      "dtypes: object(9)\n",
      "memory usage: 816.1+ KB\n"
     ]
    }
   ],
   "source": [
    "df.info()"
   ]
  },
  {
   "cell_type": "code",
   "execution_count": 4,
   "id": "cc43f6c1",
   "metadata": {},
   "outputs": [
    {
     "data": {
      "text/html": [
       "<div>\n",
       "<style scoped>\n",
       "    .dataframe tbody tr th:only-of-type {\n",
       "        vertical-align: middle;\n",
       "    }\n",
       "\n",
       "    .dataframe tbody tr th {\n",
       "        vertical-align: top;\n",
       "    }\n",
       "\n",
       "    .dataframe thead th {\n",
       "        text-align: right;\n",
       "    }\n",
       "</style>\n",
       "<table border=\"1\" class=\"dataframe\">\n",
       "  <thead>\n",
       "    <tr style=\"text-align: right;\">\n",
       "      <th></th>\n",
       "      <th>url</th>\n",
       "      <th>title</th>\n",
       "      <th>asin</th>\n",
       "      <th>price</th>\n",
       "      <th>brand</th>\n",
       "      <th>product_details</th>\n",
       "      <th>breadcrumbs</th>\n",
       "      <th>images_list</th>\n",
       "      <th>features</th>\n",
       "    </tr>\n",
       "  </thead>\n",
       "  <tbody>\n",
       "    <tr>\n",
       "      <th>count</th>\n",
       "      <td>11605</td>\n",
       "      <td>11605</td>\n",
       "      <td>11605</td>\n",
       "      <td>11168</td>\n",
       "      <td>11605</td>\n",
       "      <td>11605</td>\n",
       "      <td>11605</td>\n",
       "      <td>11605</td>\n",
       "      <td>11605</td>\n",
       "    </tr>\n",
       "    <tr>\n",
       "      <th>unique</th>\n",
       "      <td>11605</td>\n",
       "      <td>10618</td>\n",
       "      <td>11605</td>\n",
       "      <td>9825</td>\n",
       "      <td>1830</td>\n",
       "      <td>10252</td>\n",
       "      <td>215</td>\n",
       "      <td>11213</td>\n",
       "      <td>7525</td>\n",
       "    </tr>\n",
       "    <tr>\n",
       "      <th>top</th>\n",
       "      <td>https://www.amazon.co.uk/dp/B08BLP231K</td>\n",
       "      <td>ARA Women's ROM Sneaker</td>\n",
       "      <td>B08BLP231K</td>\n",
       "      <td>£34.82</td>\n",
       "      <td>Visit the adidas Store</td>\n",
       "      <td></td>\n",
       "      <td>Shoes/Women's Shoes/Fashion &amp; Athletic Trainer...</td>\n",
       "      <td>[]</td>\n",
       "      <td>[]</td>\n",
       "    </tr>\n",
       "    <tr>\n",
       "      <th>freq</th>\n",
       "      <td>1</td>\n",
       "      <td>11</td>\n",
       "      <td>1</td>\n",
       "      <td>54</td>\n",
       "      <td>685</td>\n",
       "      <td>654</td>\n",
       "      <td>2823</td>\n",
       "      <td>10</td>\n",
       "      <td>290</td>\n",
       "    </tr>\n",
       "  </tbody>\n",
       "</table>\n",
       "</div>"
      ],
      "text/plain": [
       "                                           url                    title  \\\n",
       "count                                    11605                    11605   \n",
       "unique                                   11605                    10618   \n",
       "top     https://www.amazon.co.uk/dp/B08BLP231K  ARA Women's ROM Sneaker   \n",
       "freq                                         1                       11   \n",
       "\n",
       "              asin   price                   brand product_details  \\\n",
       "count        11605   11168                   11605           11605   \n",
       "unique       11605    9825                    1830           10252   \n",
       "top     B08BLP231K  £34.82  Visit the adidas Store                   \n",
       "freq             1      54                     685             654   \n",
       "\n",
       "                                              breadcrumbs images_list features  \n",
       "count                                               11605       11605    11605  \n",
       "unique                                                215       11213     7525  \n",
       "top     Shoes/Women's Shoes/Fashion & Athletic Trainer...          []       []  \n",
       "freq                                                 2823          10      290  "
      ]
     },
     "execution_count": 4,
     "metadata": {},
     "output_type": "execute_result"
    }
   ],
   "source": [
    "df.describe()"
   ]
  },
  {
   "cell_type": "code",
   "execution_count": 5,
   "id": "d95daf52",
   "metadata": {},
   "outputs": [
    {
     "data": {
      "text/plain": [
       "url                  0\n",
       "title                0\n",
       "asin                 0\n",
       "price              437\n",
       "brand                0\n",
       "product_details      0\n",
       "breadcrumbs          0\n",
       "images_list          0\n",
       "features             0\n",
       "dtype: int64"
      ]
     },
     "execution_count": 5,
     "metadata": {},
     "output_type": "execute_result"
    }
   ],
   "source": [
    "df.isnull().sum()"
   ]
  },
  {
   "cell_type": "markdown",
   "id": "fe99486f",
   "metadata": {},
   "source": [
    "## Cleaning data set"
   ]
  },
  {
   "cell_type": "code",
   "execution_count": 6,
   "id": "b8b2a4a0",
   "metadata": {},
   "outputs": [],
   "source": [
    "zero_price_details = df[df['price'] == 0]"
   ]
  },
  {
   "cell_type": "code",
   "execution_count": 7,
   "id": "4ba553a5",
   "metadata": {},
   "outputs": [],
   "source": [
    "df_cleaned = df.dropna()"
   ]
  },
  {
   "cell_type": "code",
   "execution_count": 9,
   "id": "430734b4",
   "metadata": {},
   "outputs": [
    {
     "data": {
      "text/plain": [
       "(11168, 9)"
      ]
     },
     "execution_count": 9,
     "metadata": {},
     "output_type": "execute_result"
    }
   ],
   "source": [
    " df_cleaned.shape"
   ]
  },
  {
   "cell_type": "code",
   "execution_count": 10,
   "id": "becea652",
   "metadata": {},
   "outputs": [
    {
     "name": "stdout",
     "output_type": "stream",
     "text": [
      "url                0\n",
      "title              0\n",
      "asin               0\n",
      "price              0\n",
      "brand              0\n",
      "product_details    0\n",
      "breadcrumbs        0\n",
      "images_list        0\n",
      "features           0\n",
      "dtype: int64\n"
     ]
    }
   ],
   "source": [
    "# Remove rows where 'price' column has missing values\n",
    "df_cleaned_price = df.dropna(subset=['price'])\n",
    "\n",
    "# Check the count of missing values after removal\n",
    "print(df_cleaned_price.isnull().sum())"
   ]
  },
  {
   "cell_type": "code",
   "execution_count": null,
   "id": "539b4af3",
   "metadata": {},
   "outputs": [],
   "source": []
  }
 ],
 "metadata": {
  "kernelspec": {
   "display_name": "Python 3 (ipykernel)",
   "language": "python",
   "name": "python3"
  },
  "language_info": {
   "codemirror_mode": {
    "name": "ipython",
    "version": 3
   },
   "file_extension": ".py",
   "mimetype": "text/x-python",
   "name": "python",
   "nbconvert_exporter": "python",
   "pygments_lexer": "ipython3",
   "version": "3.9.12"
  }
 },
 "nbformat": 4,
 "nbformat_minor": 5
}
